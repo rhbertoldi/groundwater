{
 "cells": [
  {
   "cell_type": "code",
   "execution_count": 11,
   "id": "b6eba5ae",
   "metadata": {},
   "outputs": [],
   "source": [
    "import pandas as pd\n",
    "import numpy as np\n",
    "import matplotlib.pyplot as plt\n",
    "import sklearn\n",
    "from sklearn import tree\n",
    "import math\n",
    "from sklearn.metrics import r2_score"
   ]
  },
  {
   "cell_type": "code",
   "execution_count": 2,
   "id": "3ca71ead",
   "metadata": {},
   "outputs": [],
   "source": [
    "intersections = pd.read_csv('/Users/reibertoldi/Documents/UBC/EOSC 510/Final Project/Analysis/Build/complete_intersections.csv')\n",
    "monthly_data = pd.read_csv('/Users/reibertoldi/Documents/UBC/EOSC 510/Final Project/Analysis/Build/data_for_PCA.csv')"
   ]
  },
  {
   "cell_type": "code",
   "execution_count": 102,
   "id": "ad274920",
   "metadata": {},
   "outputs": [],
   "source": [
    "intersections_over1 = intersections[intersections['site_code1'].map(intersections['site_code1'].value_counts()) > 1]"
   ]
  },
  {
   "cell_type": "code",
   "execution_count": 106,
   "id": "75f05693",
   "metadata": {},
   "outputs": [],
   "source": [
    "list = intersections_over1.site_code1.unique()"
   ]
  },
  {
   "cell_type": "code",
   "execution_count": 114,
   "id": "6241d8e9",
   "metadata": {},
   "outputs": [],
   "source": [
    "appended_data = pd.DataFrame(columns=[['site_code', 'R2', 'Neighbors']])\n",
    "\n",
    "for i in (list):\n",
    "    lis = intersections[intersections.site_code1 == i].site_code2.tolist()\n",
    "    monthly_filtered = monthly_data[lis]\n",
    "    monthly_filtered = monthly_filtered.rename({i:\"y\"}, axis=1)\n",
    "    monthly_filtered_norm = (monthly_filtered - monthly_filtered.mean())/monthly_filtered.std()\n",
    "    y_complete = monthly_filtered_norm['y']\n",
    "    x_complete = np.array(monthly_filtered_norm.drop(['y'],axis=1))\n",
    "    \n",
    "    monthly_filtered_norm['y'] = monthly_filtered_norm['y'].sample(frac=0.5)\n",
    "    monthly_drop = monthly_filtered_norm.dropna()\n",
    "    \n",
    "    Y = np.array(monthly_drop['y'])\n",
    "    X = np.array(monthly_drop.drop(['y'],axis=1))\n",
    "    \n",
    "    clf = tree.DecisionTreeRegressor()\n",
    "    clf = clf.fit(X, Y)\n",
    "    y_predict = clf.predict(x_complete)\n",
    "    coefficient_of_dermination = r2_score(y_complete, y_predict)\n",
    "\n",
    "    df = pd.DataFrame([[i, coefficient_of_dermination, len(lis)]], \n",
    "                      columns=[['site_code', 'R2', 'Neighbors']])\n",
    "    appended_data = pd.concat([appended_data, df])"
   ]
  },
  {
   "cell_type": "code",
   "execution_count": 115,
   "id": "e087042d",
   "metadata": {},
   "outputs": [
    {
     "data": {
      "text/html": [
       "<div>\n",
       "<style scoped>\n",
       "    .dataframe tbody tr th:only-of-type {\n",
       "        vertical-align: middle;\n",
       "    }\n",
       "\n",
       "    .dataframe tbody tr th {\n",
       "        vertical-align: top;\n",
       "    }\n",
       "\n",
       "    .dataframe thead tr th {\n",
       "        text-align: left;\n",
       "    }\n",
       "</style>\n",
       "<table border=\"1\" class=\"dataframe\">\n",
       "  <thead>\n",
       "    <tr>\n",
       "      <th></th>\n",
       "      <th>site_code</th>\n",
       "      <th>R2</th>\n",
       "      <th>Neighbors</th>\n",
       "    </tr>\n",
       "  </thead>\n",
       "  <tbody>\n",
       "    <tr>\n",
       "      <th>0</th>\n",
       "      <td>332367N1167165W001</td>\n",
       "      <td>0.944452</td>\n",
       "      <td>5</td>\n",
       "    </tr>\n",
       "    <tr>\n",
       "      <th>0</th>\n",
       "      <td>332742N1166846W001</td>\n",
       "      <td>0.965117</td>\n",
       "      <td>5</td>\n",
       "    </tr>\n",
       "    <tr>\n",
       "      <th>0</th>\n",
       "      <td>332839N1167395W001</td>\n",
       "      <td>0.983628</td>\n",
       "      <td>5</td>\n",
       "    </tr>\n",
       "    <tr>\n",
       "      <th>0</th>\n",
       "      <td>332867N1167043W001</td>\n",
       "      <td>0.952672</td>\n",
       "      <td>5</td>\n",
       "    </tr>\n",
       "    <tr>\n",
       "      <th>0</th>\n",
       "      <td>333103N1166879W001</td>\n",
       "      <td>0.885159</td>\n",
       "      <td>5</td>\n",
       "    </tr>\n",
       "    <tr>\n",
       "      <th>...</th>\n",
       "      <td>...</td>\n",
       "      <td>...</td>\n",
       "      <td>...</td>\n",
       "    </tr>\n",
       "    <tr>\n",
       "      <th>0</th>\n",
       "      <td>392406N1214951W002</td>\n",
       "      <td>0.974842</td>\n",
       "      <td>9</td>\n",
       "    </tr>\n",
       "    <tr>\n",
       "      <th>0</th>\n",
       "      <td>392406N1214951W003</td>\n",
       "      <td>0.951424</td>\n",
       "      <td>9</td>\n",
       "    </tr>\n",
       "    <tr>\n",
       "      <th>0</th>\n",
       "      <td>392727N1215762W001</td>\n",
       "      <td>0.936071</td>\n",
       "      <td>8</td>\n",
       "    </tr>\n",
       "    <tr>\n",
       "      <th>0</th>\n",
       "      <td>392727N1215762W002</td>\n",
       "      <td>0.883827</td>\n",
       "      <td>8</td>\n",
       "    </tr>\n",
       "    <tr>\n",
       "      <th>0</th>\n",
       "      <td>392952N1215180W001</td>\n",
       "      <td>0.785512</td>\n",
       "      <td>8</td>\n",
       "    </tr>\n",
       "  </tbody>\n",
       "</table>\n",
       "<p>108 rows × 3 columns</p>\n",
       "</div>"
      ],
      "text/plain": [
       "             site_code        R2 Neighbors\n",
       "0   332367N1167165W001  0.944452         5\n",
       "0   332742N1166846W001  0.965117         5\n",
       "0   332839N1167395W001  0.983628         5\n",
       "0   332867N1167043W001  0.952672         5\n",
       "0   333103N1166879W001  0.885159         5\n",
       "..                 ...       ...       ...\n",
       "0   392406N1214951W002  0.974842         9\n",
       "0   392406N1214951W003  0.951424         9\n",
       "0   392727N1215762W001  0.936071         8\n",
       "0   392727N1215762W002  0.883827         8\n",
       "0   392952N1215180W001  0.785512         8\n",
       "\n",
       "[108 rows x 3 columns]"
      ]
     },
     "execution_count": 115,
     "metadata": {},
     "output_type": "execute_result"
    }
   ],
   "source": [
    "appended_data\n"
   ]
  },
  {
   "cell_type": "code",
   "execution_count": 116,
   "id": "e24cae71",
   "metadata": {},
   "outputs": [
    {
     "data": {
      "text/plain": [
       "<matplotlib.collections.PathCollection at 0x7fab2e110d30>"
      ]
     },
     "execution_count": 116,
     "metadata": {},
     "output_type": "execute_result"
    },
    {
     "data": {
      "image/png": "[encoded data removed]",
      "text/plain": [
       "<Figure size 640x480 with 1 Axes>"
      ]
     },
     "metadata": {},
     "output_type": "display_data"
    }
   ],
   "source": [
    "plt.scatter(appended_data['Neighbors'], appended_data['R2'])"
   ]
  }
 ],
 "metadata": {
  "kernelspec": {
   "display_name": "Python 3 (ipykernel)",
   "language": "python",
   "name": "python3"
  },
  "language_info": {
   "codemirror_mode": {
    "name": "ipython",
    "version": 3
   },
   "file_extension": ".py",
   "mimetype": "text/x-python",
   "name": "python",
   "nbconvert_exporter": "python",
   "pygments_lexer": "ipython3",
   "version": "3.9.13"
  }
 },
 "nbformat": 4,
 "nbformat_minor": 5
}
